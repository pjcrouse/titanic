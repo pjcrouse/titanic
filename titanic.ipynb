{
 "cells": [
  {
   "cell_type": "code",
   "execution_count": 1,
   "metadata": {
    "collapsed": false
   },
   "outputs": [],
   "source": [
    "import pandas as pd\n",
    "from pandas import Series, DataFrame"
   ]
  },
  {
   "cell_type": "code",
   "execution_count": 2,
   "metadata": {
    "collapsed": true
   },
   "outputs": [],
   "source": [
    "titanic_df = pd.read_csv('train.csv')"
   ]
  },
  {
   "cell_type": "code",
   "execution_count": 3,
   "metadata": {
    "collapsed": false
   },
   "outputs": [
    {
     "data": {
      "text/html": [
       "<div>\n",
       "<table border=\"1\" class=\"dataframe\">\n",
       "  <thead>\n",
       "    <tr style=\"text-align: right;\">\n",
       "      <th></th>\n",
       "      <th>PassengerId</th>\n",
       "      <th>Survived</th>\n",
       "      <th>Pclass</th>\n",
       "      <th>Name</th>\n",
       "      <th>Sex</th>\n",
       "      <th>Age</th>\n",
       "      <th>SibSp</th>\n",
       "      <th>Parch</th>\n",
       "      <th>Ticket</th>\n",
       "      <th>Fare</th>\n",
       "      <th>Cabin</th>\n",
       "      <th>Embarked</th>\n",
       "    </tr>\n",
       "  </thead>\n",
       "  <tbody>\n",
       "    <tr>\n",
       "      <th>0</th>\n",
       "      <td>1</td>\n",
       "      <td>0</td>\n",
       "      <td>3</td>\n",
       "      <td>Braund, Mr. Owen Harris</td>\n",
       "      <td>male</td>\n",
       "      <td>22.0</td>\n",
       "      <td>1</td>\n",
       "      <td>0</td>\n",
       "      <td>A/5 21171</td>\n",
       "      <td>7.2500</td>\n",
       "      <td>NaN</td>\n",
       "      <td>S</td>\n",
       "    </tr>\n",
       "    <tr>\n",
       "      <th>1</th>\n",
       "      <td>2</td>\n",
       "      <td>1</td>\n",
       "      <td>1</td>\n",
       "      <td>Cumings, Mrs. John Bradley (Florence Briggs Th...</td>\n",
       "      <td>female</td>\n",
       "      <td>38.0</td>\n",
       "      <td>1</td>\n",
       "      <td>0</td>\n",
       "      <td>PC 17599</td>\n",
       "      <td>71.2833</td>\n",
       "      <td>C85</td>\n",
       "      <td>C</td>\n",
       "    </tr>\n",
       "    <tr>\n",
       "      <th>2</th>\n",
       "      <td>3</td>\n",
       "      <td>1</td>\n",
       "      <td>3</td>\n",
       "      <td>Heikkinen, Miss. Laina</td>\n",
       "      <td>female</td>\n",
       "      <td>26.0</td>\n",
       "      <td>0</td>\n",
       "      <td>0</td>\n",
       "      <td>STON/O2. 3101282</td>\n",
       "      <td>7.9250</td>\n",
       "      <td>NaN</td>\n",
       "      <td>S</td>\n",
       "    </tr>\n",
       "    <tr>\n",
       "      <th>3</th>\n",
       "      <td>4</td>\n",
       "      <td>1</td>\n",
       "      <td>1</td>\n",
       "      <td>Futrelle, Mrs. Jacques Heath (Lily May Peel)</td>\n",
       "      <td>female</td>\n",
       "      <td>35.0</td>\n",
       "      <td>1</td>\n",
       "      <td>0</td>\n",
       "      <td>113803</td>\n",
       "      <td>53.1000</td>\n",
       "      <td>C123</td>\n",
       "      <td>S</td>\n",
       "    </tr>\n",
       "    <tr>\n",
       "      <th>4</th>\n",
       "      <td>5</td>\n",
       "      <td>0</td>\n",
       "      <td>3</td>\n",
       "      <td>Allen, Mr. William Henry</td>\n",
       "      <td>male</td>\n",
       "      <td>35.0</td>\n",
       "      <td>0</td>\n",
       "      <td>0</td>\n",
       "      <td>373450</td>\n",
       "      <td>8.0500</td>\n",
       "      <td>NaN</td>\n",
       "      <td>S</td>\n",
       "    </tr>\n",
       "  </tbody>\n",
       "</table>\n",
       "</div>"
      ],
      "text/plain": [
       "   PassengerId  Survived  Pclass  \\\n",
       "0            1         0       3   \n",
       "1            2         1       1   \n",
       "2            3         1       3   \n",
       "3            4         1       1   \n",
       "4            5         0       3   \n",
       "\n",
       "                                                Name     Sex   Age  SibSp  \\\n",
       "0                            Braund, Mr. Owen Harris    male  22.0      1   \n",
       "1  Cumings, Mrs. John Bradley (Florence Briggs Th...  female  38.0      1   \n",
       "2                             Heikkinen, Miss. Laina  female  26.0      0   \n",
       "3       Futrelle, Mrs. Jacques Heath (Lily May Peel)  female  35.0      1   \n",
       "4                           Allen, Mr. William Henry    male  35.0      0   \n",
       "\n",
       "   Parch            Ticket     Fare Cabin Embarked  \n",
       "0      0         A/5 21171   7.2500   NaN        S  \n",
       "1      0          PC 17599  71.2833   C85        C  \n",
       "2      0  STON/O2. 3101282   7.9250   NaN        S  \n",
       "3      0            113803  53.1000  C123        S  \n",
       "4      0            373450   8.0500   NaN        S  "
      ]
     },
     "execution_count": 3,
     "metadata": {},
     "output_type": "execute_result"
    }
   ],
   "source": [
    "titanic_df.head()"
   ]
  },
  {
   "cell_type": "code",
   "execution_count": 4,
   "metadata": {
    "collapsed": false
   },
   "outputs": [
    {
     "name": "stdout",
     "output_type": "stream",
     "text": [
      "<class 'pandas.core.frame.DataFrame'>\n",
      "RangeIndex: 891 entries, 0 to 890\n",
      "Data columns (total 12 columns):\n",
      "PassengerId    891 non-null int64\n",
      "Survived       891 non-null int64\n",
      "Pclass         891 non-null int64\n",
      "Name           891 non-null object\n",
      "Sex            891 non-null object\n",
      "Age            714 non-null float64\n",
      "SibSp          891 non-null int64\n",
      "Parch          891 non-null int64\n",
      "Ticket         891 non-null object\n",
      "Fare           891 non-null float64\n",
      "Cabin          204 non-null object\n",
      "Embarked       889 non-null object\n",
      "dtypes: float64(2), int64(5), object(5)\n",
      "memory usage: 83.6+ KB\n"
     ]
    }
   ],
   "source": [
    "titanic_df.info()"
   ]
  },
  {
   "cell_type": "code",
   "execution_count": 15,
   "metadata": {
    "collapsed": false
   },
   "outputs": [
    {
     "data": {
      "text/plain": [
       "male      577\n",
       "female    314\n",
       "Name: Sex, dtype: int64"
      ]
     },
     "execution_count": 15,
     "metadata": {},
     "output_type": "execute_result"
    }
   ],
   "source": [
    "titanic_df['Sex'].value_counts()"
   ]
  },
  {
   "cell_type": "code",
   "execution_count": 32,
   "metadata": {
    "collapsed": true
   },
   "outputs": [],
   "source": [
    "import numpy as np\n",
    "import matplotlib.pyplot as plt\n",
    "import seaborn as sns\n",
    "%matplotlib inline"
   ]
  },
  {
   "cell_type": "code",
   "execution_count": 18,
   "metadata": {
    "collapsed": false
   },
   "outputs": [
    {
     "data": {
      "application/javascript": [
       "/* Put everything inside the global mpl namespace */\n",
       "window.mpl = {};\n",
       "\n",
       "\n",
       "mpl.get_websocket_type = function() {\n",
       "    if (typeof(WebSocket) !== 'undefined') {\n",
       "        return WebSocket;\n",
       "    } else if (typeof(MozWebSocket) !== 'undefined') {\n",
       "        return MozWebSocket;\n",
       "    } else {\n",
       "        alert('Your browser does not have WebSocket support.' +\n",
       "              'Please try Chrome, Safari or Firefox ≥ 6. ' +\n",
       "              'Firefox 4 and 5 are also supported but you ' +\n",
       "              'have to enable WebSockets in about:config.');\n",
       "    };\n",
       "}\n",
       "\n",
       "mpl.figure = function(figure_id, websocket, ondownload, parent_element) {\n",
       "    this.id = figure_id;\n",
       "\n",
       "    this.ws = websocket;\n",
       "\n",
       "    this.supports_binary = (this.ws.binaryType != undefined);\n",
       "\n",
       "    if (!this.supports_binary) {\n",
       "        var warnings = document.getElementById(\"mpl-warnings\");\n",
       "        if (warnings) {\n",
       "            warnings.style.display = 'block';\n",
       "            warnings.textContent = (\n",
       "                \"This browser does not support binary websocket messages. \" +\n",
       "                    \"Performance may be slow.\");\n",
       "        }\n",
       "    }\n",
       "\n",
       "    this.imageObj = new Image();\n",
       "\n",
       "    this.context = undefined;\n",
       "    this.message = undefined;\n",
       "    this.canvas = undefined;\n",
       "    this.rubberband_canvas = undefined;\n",
       "    this.rubberband_context = undefined;\n",
       "    this.format_dropdown = undefined;\n",
       "\n",
       "    this.image_mode = 'full';\n",
       "\n",
       "    this.root = $('<div/>');\n",
       "    this._root_extra_style(this.root)\n",
       "    this.root.attr('style', 'display: inline-block');\n",
       "\n",
       "    $(parent_element).append(this.root);\n",
       "\n",
       "    this._init_header(this);\n",
       "    this._init_canvas(this);\n",
       "    this._init_toolbar(this);\n",
       "\n",
       "    var fig = this;\n",
       "\n",
       "    this.waiting = false;\n",
       "\n",
       "    this.ws.onopen =  function () {\n",
       "            fig.send_message(\"supports_binary\", {value: fig.supports_binary});\n",
       "            fig.send_message(\"send_image_mode\", {});\n",
       "            if (mpl.ratio != 1) {\n",
       "                fig.send_message(\"set_dpi_ratio\", {'dpi_ratio': mpl.ratio});\n",
       "            }\n",
       "            fig.send_message(\"refresh\", {});\n",
       "        }\n",
       "\n",
       "    this.imageObj.onload = function() {\n",
       "            if (fig.image_mode == 'full') {\n",
       "                // Full images could contain transparency (where diff images\n",
       "                // almost always do), so we need to clear the canvas so that\n",
       "                // there is no ghosting.\n",
       "                fig.context.clearRect(0, 0, fig.canvas.width, fig.canvas.height);\n",
       "            }\n",
       "            fig.context.drawImage(fig.imageObj, 0, 0);\n",
       "        };\n",
       "\n",
       "    this.imageObj.onunload = function() {\n",
       "        this.ws.close();\n",
       "    }\n",
       "\n",
       "    this.ws.onmessage = this._make_on_message_function(this);\n",
       "\n",
       "    this.ondownload = ondownload;\n",
       "}\n",
       "\n",
       "mpl.figure.prototype._init_header = function() {\n",
       "    var titlebar = $(\n",
       "        '<div class=\"ui-dialog-titlebar ui-widget-header ui-corner-all ' +\n",
       "        'ui-helper-clearfix\"/>');\n",
       "    var titletext = $(\n",
       "        '<div class=\"ui-dialog-title\" style=\"width: 100%; ' +\n",
       "        'text-align: center; padding: 3px;\"/>');\n",
       "    titlebar.append(titletext)\n",
       "    this.root.append(titlebar);\n",
       "    this.header = titletext[0];\n",
       "}\n",
       "\n",
       "\n",
       "\n",
       "mpl.figure.prototype._canvas_extra_style = function(canvas_div) {\n",
       "\n",
       "}\n",
       "\n",
       "\n",
       "mpl.figure.prototype._root_extra_style = function(canvas_div) {\n",
       "\n",
       "}\n",
       "\n",
       "mpl.figure.prototype._init_canvas = function() {\n",
       "    var fig = this;\n",
       "\n",
       "    var canvas_div = $('<div/>');\n",
       "\n",
       "    canvas_div.attr('style', 'position: relative; clear: both; outline: 0');\n",
       "\n",
       "    function canvas_keyboard_event(event) {\n",
       "        return fig.key_event(event, event['data']);\n",
       "    }\n",
       "\n",
       "    canvas_div.keydown('key_press', canvas_keyboard_event);\n",
       "    canvas_div.keyup('key_release', canvas_keyboard_event);\n",
       "    this.canvas_div = canvas_div\n",
       "    this._canvas_extra_style(canvas_div)\n",
       "    this.root.append(canvas_div);\n",
       "\n",
       "    var canvas = $('<canvas/>');\n",
       "    canvas.addClass('mpl-canvas');\n",
       "    canvas.attr('style', \"left: 0; top: 0; z-index: 0; outline: 0\")\n",
       "\n",
       "    this.canvas = canvas[0];\n",
       "    this.context = canvas[0].getContext(\"2d\");\n",
       "\n",
       "    var backingStore = this.context.backingStorePixelRatio ||\n",
       "\tthis.context.webkitBackingStorePixelRatio ||\n",
       "\tthis.context.mozBackingStorePixelRatio ||\n",
       "\tthis.context.msBackingStorePixelRatio ||\n",
       "\tthis.context.oBackingStorePixelRatio ||\n",
       "\tthis.context.backingStorePixelRatio || 1;\n",
       "\n",
       "    mpl.ratio = (window.devicePixelRatio || 1) / backingStore;\n",
       "\n",
       "    var rubberband = $('<canvas/>');\n",
       "    rubberband.attr('style', \"position: absolute; left: 0; top: 0; z-index: 1;\")\n",
       "\n",
       "    var pass_mouse_events = true;\n",
       "\n",
       "    canvas_div.resizable({\n",
       "        start: function(event, ui) {\n",
       "            pass_mouse_events = false;\n",
       "        },\n",
       "        resize: function(event, ui) {\n",
       "            fig.request_resize(ui.size.width, ui.size.height);\n",
       "        },\n",
       "        stop: function(event, ui) {\n",
       "            pass_mouse_events = true;\n",
       "            fig.request_resize(ui.size.width, ui.size.height);\n",
       "        },\n",
       "    });\n",
       "\n",
       "    function mouse_event_fn(event) {\n",
       "        if (pass_mouse_events)\n",
       "            return fig.mouse_event(event, event['data']);\n",
       "    }\n",
       "\n",
       "    rubberband.mousedown('button_press', mouse_event_fn);\n",
       "    rubberband.mouseup('button_release', mouse_event_fn);\n",
       "    // Throttle sequential mouse events to 1 every 20ms.\n",
       "    rubberband.mousemove('motion_notify', mouse_event_fn);\n",
       "\n",
       "    rubberband.mouseenter('figure_enter', mouse_event_fn);\n",
       "    rubberband.mouseleave('figure_leave', mouse_event_fn);\n",
       "\n",
       "    canvas_div.on(\"wheel\", function (event) {\n",
       "        event = event.originalEvent;\n",
       "        event['data'] = 'scroll'\n",
       "        if (event.deltaY < 0) {\n",
       "            event.step = 1;\n",
       "        } else {\n",
       "            event.step = -1;\n",
       "        }\n",
       "        mouse_event_fn(event);\n",
       "    });\n",
       "\n",
       "    canvas_div.append(canvas);\n",
       "    canvas_div.append(rubberband);\n",
       "\n",
       "    this.rubberband = rubberband;\n",
       "    this.rubberband_canvas = rubberband[0];\n",
       "    this.rubberband_context = rubberband[0].getContext(\"2d\");\n",
       "    this.rubberband_context.strokeStyle = \"#000000\";\n",
       "\n",
       "    this._resize_canvas = function(width, height) {\n",
       "        // Keep the size of the canvas, canvas container, and rubber band\n",
       "        // canvas in synch.\n",
       "        canvas_div.css('width', width)\n",
       "        canvas_div.css('height', height)\n",
       "\n",
       "        canvas.attr('width', width * mpl.ratio);\n",
       "        canvas.attr('height', height * mpl.ratio);\n",
       "        canvas.attr('style', 'width: ' + width + 'px; height: ' + height + 'px;');\n",
       "\n",
       "        rubberband.attr('width', width);\n",
       "        rubberband.attr('height', height);\n",
       "    }\n",
       "\n",
       "    // Set the figure to an initial 600x600px, this will subsequently be updated\n",
       "    // upon first draw.\n",
       "    this._resize_canvas(600, 600);\n",
       "\n",
       "    // Disable right mouse context menu.\n",
       "    $(this.rubberband_canvas).bind(\"contextmenu\",function(e){\n",
       "        return false;\n",
       "    });\n",
       "\n",
       "    function set_focus () {\n",
       "        canvas.focus();\n",
       "        canvas_div.focus();\n",
       "    }\n",
       "\n",
       "    window.setTimeout(set_focus, 100);\n",
       "}\n",
       "\n",
       "mpl.figure.prototype._init_toolbar = function() {\n",
       "    var fig = this;\n",
       "\n",
       "    var nav_element = $('<div/>')\n",
       "    nav_element.attr('style', 'width: 100%');\n",
       "    this.root.append(nav_element);\n",
       "\n",
       "    // Define a callback function for later on.\n",
       "    function toolbar_event(event) {\n",
       "        return fig.toolbar_button_onclick(event['data']);\n",
       "    }\n",
       "    function toolbar_mouse_event(event) {\n",
       "        return fig.toolbar_button_onmouseover(event['data']);\n",
       "    }\n",
       "\n",
       "    for(var toolbar_ind in mpl.toolbar_items) {\n",
       "        var name = mpl.toolbar_items[toolbar_ind][0];\n",
       "        var tooltip = mpl.toolbar_items[toolbar_ind][1];\n",
       "        var image = mpl.toolbar_items[toolbar_ind][2];\n",
       "        var method_name = mpl.toolbar_items[toolbar_ind][3];\n",
       "\n",
       "        if (!name) {\n",
       "            // put a spacer in here.\n",
       "            continue;\n",
       "        }\n",
       "        var button = $('<button/>');\n",
       "        button.addClass('ui-button ui-widget ui-state-default ui-corner-all ' +\n",
       "                        'ui-button-icon-only');\n",
       "        button.attr('role', 'button');\n",
       "        button.attr('aria-disabled', 'false');\n",
       "        button.click(method_name, toolbar_event);\n",
       "        button.mouseover(tooltip, toolbar_mouse_event);\n",
       "\n",
       "        var icon_img = $('<span/>');\n",
       "        icon_img.addClass('ui-button-icon-primary ui-icon');\n",
       "        icon_img.addClass(image);\n",
       "        icon_img.addClass('ui-corner-all');\n",
       "\n",
       "        var tooltip_span = $('<span/>');\n",
       "        tooltip_span.addClass('ui-button-text');\n",
       "        tooltip_span.html(tooltip);\n",
       "\n",
       "        button.append(icon_img);\n",
       "        button.append(tooltip_span);\n",
       "\n",
       "        nav_element.append(button);\n",
       "    }\n",
       "\n",
       "    var fmt_picker_span = $('<span/>');\n",
       "\n",
       "    var fmt_picker = $('<select/>');\n",
       "    fmt_picker.addClass('mpl-toolbar-option ui-widget ui-widget-content');\n",
       "    fmt_picker_span.append(fmt_picker);\n",
       "    nav_element.append(fmt_picker_span);\n",
       "    this.format_dropdown = fmt_picker[0];\n",
       "\n",
       "    for (var ind in mpl.extensions) {\n",
       "        var fmt = mpl.extensions[ind];\n",
       "        var option = $(\n",
       "            '<option/>', {selected: fmt === mpl.default_extension}).html(fmt);\n",
       "        fmt_picker.append(option)\n",
       "    }\n",
       "\n",
       "    // Add hover states to the ui-buttons\n",
       "    $( \".ui-button\" ).hover(\n",
       "        function() { $(this).addClass(\"ui-state-hover\");},\n",
       "        function() { $(this).removeClass(\"ui-state-hover\");}\n",
       "    );\n",
       "\n",
       "    var status_bar = $('<span class=\"mpl-message\"/>');\n",
       "    nav_element.append(status_bar);\n",
       "    this.message = status_bar[0];\n",
       "}\n",
       "\n",
       "mpl.figure.prototype.request_resize = function(x_pixels, y_pixels) {\n",
       "    // Request matplotlib to resize the figure. Matplotlib will then trigger a resize in the client,\n",
       "    // which will in turn request a refresh of the image.\n",
       "    this.send_message('resize', {'width': x_pixels, 'height': y_pixels});\n",
       "}\n",
       "\n",
       "mpl.figure.prototype.send_message = function(type, properties) {\n",
       "    properties['type'] = type;\n",
       "    properties['figure_id'] = this.id;\n",
       "    this.ws.send(JSON.stringify(properties));\n",
       "}\n",
       "\n",
       "mpl.figure.prototype.send_draw_message = function() {\n",
       "    if (!this.waiting) {\n",
       "        this.waiting = true;\n",
       "        this.ws.send(JSON.stringify({type: \"draw\", figure_id: this.id}));\n",
       "    }\n",
       "}\n",
       "\n",
       "\n",
       "mpl.figure.prototype.handle_save = function(fig, msg) {\n",
       "    var format_dropdown = fig.format_dropdown;\n",
       "    var format = format_dropdown.options[format_dropdown.selectedIndex].value;\n",
       "    fig.ondownload(fig, format);\n",
       "}\n",
       "\n",
       "\n",
       "mpl.figure.prototype.handle_resize = function(fig, msg) {\n",
       "    var size = msg['size'];\n",
       "    if (size[0] != fig.canvas.width || size[1] != fig.canvas.height) {\n",
       "        fig._resize_canvas(size[0], size[1]);\n",
       "        fig.send_message(\"refresh\", {});\n",
       "    };\n",
       "}\n",
       "\n",
       "mpl.figure.prototype.handle_rubberband = function(fig, msg) {\n",
       "    var x0 = msg['x0'] / mpl.ratio;\n",
       "    var y0 = (fig.canvas.height - msg['y0']) / mpl.ratio;\n",
       "    var x1 = msg['x1'] / mpl.ratio;\n",
       "    var y1 = (fig.canvas.height - msg['y1']) / mpl.ratio;\n",
       "    x0 = Math.floor(x0) + 0.5;\n",
       "    y0 = Math.floor(y0) + 0.5;\n",
       "    x1 = Math.floor(x1) + 0.5;\n",
       "    y1 = Math.floor(y1) + 0.5;\n",
       "    var min_x = Math.min(x0, x1);\n",
       "    var min_y = Math.min(y0, y1);\n",
       "    var width = Math.abs(x1 - x0);\n",
       "    var height = Math.abs(y1 - y0);\n",
       "\n",
       "    fig.rubberband_context.clearRect(\n",
       "        0, 0, fig.canvas.width, fig.canvas.height);\n",
       "\n",
       "    fig.rubberband_context.strokeRect(min_x, min_y, width, height);\n",
       "}\n",
       "\n",
       "mpl.figure.prototype.handle_figure_label = function(fig, msg) {\n",
       "    // Updates the figure title.\n",
       "    fig.header.textContent = msg['label'];\n",
       "}\n",
       "\n",
       "mpl.figure.prototype.handle_cursor = function(fig, msg) {\n",
       "    var cursor = msg['cursor'];\n",
       "    switch(cursor)\n",
       "    {\n",
       "    case 0:\n",
       "        cursor = 'pointer';\n",
       "        break;\n",
       "    case 1:\n",
       "        cursor = 'default';\n",
       "        break;\n",
       "    case 2:\n",
       "        cursor = 'crosshair';\n",
       "        break;\n",
       "    case 3:\n",
       "        cursor = 'move';\n",
       "        break;\n",
       "    }\n",
       "    fig.rubberband_canvas.style.cursor = cursor;\n",
       "}\n",
       "\n",
       "mpl.figure.prototype.handle_message = function(fig, msg) {\n",
       "    fig.message.textContent = msg['message'];\n",
       "}\n",
       "\n",
       "mpl.figure.prototype.handle_draw = function(fig, msg) {\n",
       "    // Request the server to send over a new figure.\n",
       "    fig.send_draw_message();\n",
       "}\n",
       "\n",
       "mpl.figure.prototype.handle_image_mode = function(fig, msg) {\n",
       "    fig.image_mode = msg['mode'];\n",
       "}\n",
       "\n",
       "mpl.figure.prototype.updated_canvas_event = function() {\n",
       "    // Called whenever the canvas gets updated.\n",
       "    this.send_message(\"ack\", {});\n",
       "}\n",
       "\n",
       "// A function to construct a web socket function for onmessage handling.\n",
       "// Called in the figure constructor.\n",
       "mpl.figure.prototype._make_on_message_function = function(fig) {\n",
       "    return function socket_on_message(evt) {\n",
       "        if (evt.data instanceof Blob) {\n",
       "            /* FIXME: We get \"Resource interpreted as Image but\n",
       "             * transferred with MIME type text/plain:\" errors on\n",
       "             * Chrome.  But how to set the MIME type?  It doesn't seem\n",
       "             * to be part of the websocket stream */\n",
       "            evt.data.type = \"image/png\";\n",
       "\n",
       "            /* Free the memory for the previous frames */\n",
       "            if (fig.imageObj.src) {\n",
       "                (window.URL || window.webkitURL).revokeObjectURL(\n",
       "                    fig.imageObj.src);\n",
       "            }\n",
       "\n",
       "            fig.imageObj.src = (window.URL || window.webkitURL).createObjectURL(\n",
       "                evt.data);\n",
       "            fig.updated_canvas_event();\n",
       "            fig.waiting = false;\n",
       "            return;\n",
       "        }\n",
       "        else if (typeof evt.data === 'string' && evt.data.slice(0, 21) == \"data:image/png;base64\") {\n",
       "            fig.imageObj.src = evt.data;\n",
       "            fig.updated_canvas_event();\n",
       "            fig.waiting = false;\n",
       "            return;\n",
       "        }\n",
       "\n",
       "        var msg = JSON.parse(evt.data);\n",
       "        var msg_type = msg['type'];\n",
       "\n",
       "        // Call the  \"handle_{type}\" callback, which takes\n",
       "        // the figure and JSON message as its only arguments.\n",
       "        try {\n",
       "            var callback = fig[\"handle_\" + msg_type];\n",
       "        } catch (e) {\n",
       "            console.log(\"No handler for the '\" + msg_type + \"' message type: \", msg);\n",
       "            return;\n",
       "        }\n",
       "\n",
       "        if (callback) {\n",
       "            try {\n",
       "                // console.log(\"Handling '\" + msg_type + \"' message: \", msg);\n",
       "                callback(fig, msg);\n",
       "            } catch (e) {\n",
       "                console.log(\"Exception inside the 'handler_\" + msg_type + \"' callback:\", e, e.stack, msg);\n",
       "            }\n",
       "        }\n",
       "    };\n",
       "}\n",
       "\n",
       "// from http://stackoverflow.com/questions/1114465/getting-mouse-location-in-canvas\n",
       "mpl.findpos = function(e) {\n",
       "    //this section is from http://www.quirksmode.org/js/events_properties.html\n",
       "    var targ;\n",
       "    if (!e)\n",
       "        e = window.event;\n",
       "    if (e.target)\n",
       "        targ = e.target;\n",
       "    else if (e.srcElement)\n",
       "        targ = e.srcElement;\n",
       "    if (targ.nodeType == 3) // defeat Safari bug\n",
       "        targ = targ.parentNode;\n",
       "\n",
       "    // jQuery normalizes the pageX and pageY\n",
       "    // pageX,Y are the mouse positions relative to the document\n",
       "    // offset() returns the position of the element relative to the document\n",
       "    var x = e.pageX - $(targ).offset().left;\n",
       "    var y = e.pageY - $(targ).offset().top;\n",
       "\n",
       "    return {\"x\": x, \"y\": y};\n",
       "};\n",
       "\n",
       "/*\n",
       " * return a copy of an object with only non-object keys\n",
       " * we need this to avoid circular references\n",
       " * http://stackoverflow.com/a/24161582/3208463\n",
       " */\n",
       "function simpleKeys (original) {\n",
       "  return Object.keys(original).reduce(function (obj, key) {\n",
       "    if (typeof original[key] !== 'object')\n",
       "        obj[key] = original[key]\n",
       "    return obj;\n",
       "  }, {});\n",
       "}\n",
       "\n",
       "mpl.figure.prototype.mouse_event = function(event, name) {\n",
       "    var canvas_pos = mpl.findpos(event)\n",
       "\n",
       "    if (name === 'button_press')\n",
       "    {\n",
       "        this.canvas.focus();\n",
       "        this.canvas_div.focus();\n",
       "    }\n",
       "\n",
       "    var x = canvas_pos.x * mpl.ratio;\n",
       "    var y = canvas_pos.y * mpl.ratio;\n",
       "\n",
       "    this.send_message(name, {x: x, y: y, button: event.button,\n",
       "                             step: event.step,\n",
       "                             guiEvent: simpleKeys(event)});\n",
       "\n",
       "    /* This prevents the web browser from automatically changing to\n",
       "     * the text insertion cursor when the button is pressed.  We want\n",
       "     * to control all of the cursor setting manually through the\n",
       "     * 'cursor' event from matplotlib */\n",
       "    event.preventDefault();\n",
       "    return false;\n",
       "}\n",
       "\n",
       "mpl.figure.prototype._key_event_extra = function(event, name) {\n",
       "    // Handle any extra behaviour associated with a key event\n",
       "}\n",
       "\n",
       "mpl.figure.prototype.key_event = function(event, name) {\n",
       "\n",
       "    // Prevent repeat events\n",
       "    if (name == 'key_press')\n",
       "    {\n",
       "        if (event.which === this._key)\n",
       "            return;\n",
       "        else\n",
       "            this._key = event.which;\n",
       "    }\n",
       "    if (name == 'key_release')\n",
       "        this._key = null;\n",
       "\n",
       "    var value = '';\n",
       "    if (event.ctrlKey && event.which != 17)\n",
       "        value += \"ctrl+\";\n",
       "    if (event.altKey && event.which != 18)\n",
       "        value += \"alt+\";\n",
       "    if (event.shiftKey && event.which != 16)\n",
       "        value += \"shift+\";\n",
       "\n",
       "    value += 'k';\n",
       "    value += event.which.toString();\n",
       "\n",
       "    this._key_event_extra(event, name);\n",
       "\n",
       "    this.send_message(name, {key: value,\n",
       "                             guiEvent: simpleKeys(event)});\n",
       "    return false;\n",
       "}\n",
       "\n",
       "mpl.figure.prototype.toolbar_button_onclick = function(name) {\n",
       "    if (name == 'download') {\n",
       "        this.handle_save(this, null);\n",
       "    } else {\n",
       "        this.send_message(\"toolbar_button\", {name: name});\n",
       "    }\n",
       "};\n",
       "\n",
       "mpl.figure.prototype.toolbar_button_onmouseover = function(tooltip) {\n",
       "    this.message.textContent = tooltip;\n",
       "};\n",
       "mpl.toolbar_items = [[\"Home\", \"Reset original view\", \"fa fa-home icon-home\", \"home\"], [\"Back\", \"Back to  previous view\", \"fa fa-arrow-left icon-arrow-left\", \"back\"], [\"Forward\", \"Forward to next view\", \"fa fa-arrow-right icon-arrow-right\", \"forward\"], [\"\", \"\", \"\", \"\"], [\"Pan\", \"Pan axes with left mouse, zoom with right\", \"fa fa-arrows icon-move\", \"pan\"], [\"Zoom\", \"Zoom to rectangle\", \"fa fa-square-o icon-check-empty\", \"zoom\"], [\"\", \"\", \"\", \"\"], [\"Download\", \"Download plot\", \"fa fa-floppy-o icon-save\", \"download\"]];\n",
       "\n",
       "mpl.extensions = [\"eps\", \"jpeg\", \"pdf\", \"png\", \"ps\", \"raw\", \"svg\", \"tif\"];\n",
       "\n",
       "mpl.default_extension = \"png\";var comm_websocket_adapter = function(comm) {\n",
       "    // Create a \"websocket\"-like object which calls the given IPython comm\n",
       "    // object with the appropriate methods. Currently this is a non binary\n",
       "    // socket, so there is still some room for performance tuning.\n",
       "    var ws = {};\n",
       "\n",
       "    ws.close = function() {\n",
       "        comm.close()\n",
       "    };\n",
       "    ws.send = function(m) {\n",
       "        //console.log('sending', m);\n",
       "        comm.send(m);\n",
       "    };\n",
       "    // Register the callback with on_msg.\n",
       "    comm.on_msg(function(msg) {\n",
       "        //console.log('receiving', msg['content']['data'], msg);\n",
       "        // Pass the mpl event to the overriden (by mpl) onmessage function.\n",
       "        ws.onmessage(msg['content']['data'])\n",
       "    });\n",
       "    return ws;\n",
       "}\n",
       "\n",
       "mpl.mpl_figure_comm = function(comm, msg) {\n",
       "    // This is the function which gets called when the mpl process\n",
       "    // starts-up an IPython Comm through the \"matplotlib\" channel.\n",
       "\n",
       "    var id = msg.content.data.id;\n",
       "    // Get hold of the div created by the display call when the Comm\n",
       "    // socket was opened in Python.\n",
       "    var element = $(\"#\" + id);\n",
       "    var ws_proxy = comm_websocket_adapter(comm)\n",
       "\n",
       "    function ondownload(figure, format) {\n",
       "        window.open(figure.imageObj.src);\n",
       "    }\n",
       "\n",
       "    var fig = new mpl.figure(id, ws_proxy,\n",
       "                           ondownload,\n",
       "                           element.get(0));\n",
       "\n",
       "    // Call onopen now - mpl needs it, as it is assuming we've passed it a real\n",
       "    // web socket which is closed, not our websocket->open comm proxy.\n",
       "    ws_proxy.onopen();\n",
       "\n",
       "    fig.parent_element = element.get(0);\n",
       "    fig.cell_info = mpl.find_output_cell(\"<div id='\" + id + \"'></div>\");\n",
       "    if (!fig.cell_info) {\n",
       "        console.error(\"Failed to find cell for figure\", id, fig);\n",
       "        return;\n",
       "    }\n",
       "\n",
       "    var output_index = fig.cell_info[2]\n",
       "    var cell = fig.cell_info[0];\n",
       "\n",
       "};\n",
       "\n",
       "mpl.figure.prototype.handle_close = function(fig, msg) {\n",
       "    var width = fig.canvas.width/mpl.ratio\n",
       "    fig.root.unbind('remove')\n",
       "\n",
       "    // Update the output cell to use the data from the current canvas.\n",
       "    fig.push_to_output();\n",
       "    var dataURL = fig.canvas.toDataURL();\n",
       "    // Re-enable the keyboard manager in IPython - without this line, in FF,\n",
       "    // the notebook keyboard shortcuts fail.\n",
       "    IPython.keyboard_manager.enable()\n",
       "    $(fig.parent_element).html('<img src=\"' + dataURL + '\" width=\"' + width + '\">');\n",
       "    fig.close_ws(fig, msg);\n",
       "}\n",
       "\n",
       "mpl.figure.prototype.close_ws = function(fig, msg){\n",
       "    fig.send_message('closing', msg);\n",
       "    // fig.ws.close()\n",
       "}\n",
       "\n",
       "mpl.figure.prototype.push_to_output = function(remove_interactive) {\n",
       "    // Turn the data on the canvas into data in the output cell.\n",
       "    var width = this.canvas.width/mpl.ratio\n",
       "    var dataURL = this.canvas.toDataURL();\n",
       "    this.cell_info[1]['text/html'] = '<img src=\"' + dataURL + '\" width=\"' + width + '\">';\n",
       "}\n",
       "\n",
       "mpl.figure.prototype.updated_canvas_event = function() {\n",
       "    // Tell IPython that the notebook contents must change.\n",
       "    IPython.notebook.set_dirty(true);\n",
       "    this.send_message(\"ack\", {});\n",
       "    var fig = this;\n",
       "    // Wait a second, then push the new image to the DOM so\n",
       "    // that it is saved nicely (might be nice to debounce this).\n",
       "    setTimeout(function () { fig.push_to_output() }, 1000);\n",
       "}\n",
       "\n",
       "mpl.figure.prototype._init_toolbar = function() {\n",
       "    var fig = this;\n",
       "\n",
       "    var nav_element = $('<div/>')\n",
       "    nav_element.attr('style', 'width: 100%');\n",
       "    this.root.append(nav_element);\n",
       "\n",
       "    // Define a callback function for later on.\n",
       "    function toolbar_event(event) {\n",
       "        return fig.toolbar_button_onclick(event['data']);\n",
       "    }\n",
       "    function toolbar_mouse_event(event) {\n",
       "        return fig.toolbar_button_onmouseover(event['data']);\n",
       "    }\n",
       "\n",
       "    for(var toolbar_ind in mpl.toolbar_items){\n",
       "        var name = mpl.toolbar_items[toolbar_ind][0];\n",
       "        var tooltip = mpl.toolbar_items[toolbar_ind][1];\n",
       "        var image = mpl.toolbar_items[toolbar_ind][2];\n",
       "        var method_name = mpl.toolbar_items[toolbar_ind][3];\n",
       "\n",
       "        if (!name) { continue; };\n",
       "\n",
       "        var button = $('<button class=\"btn btn-default\" href=\"#\" title=\"' + name + '\"><i class=\"fa ' + image + ' fa-lg\"></i></button>');\n",
       "        button.click(method_name, toolbar_event);\n",
       "        button.mouseover(tooltip, toolbar_mouse_event);\n",
       "        nav_element.append(button);\n",
       "    }\n",
       "\n",
       "    // Add the status bar.\n",
       "    var status_bar = $('<span class=\"mpl-message\" style=\"text-align:right; float: right;\"/>');\n",
       "    nav_element.append(status_bar);\n",
       "    this.message = status_bar[0];\n",
       "\n",
       "    // Add the close button to the window.\n",
       "    var buttongrp = $('<div class=\"btn-group inline pull-right\"></div>');\n",
       "    var button = $('<button class=\"btn btn-mini btn-primary\" href=\"#\" title=\"Stop Interaction\"><i class=\"fa fa-power-off icon-remove icon-large\"></i></button>');\n",
       "    button.click(function (evt) { fig.handle_close(fig, {}); } );\n",
       "    button.mouseover('Stop Interaction', toolbar_mouse_event);\n",
       "    buttongrp.append(button);\n",
       "    var titlebar = this.root.find($('.ui-dialog-titlebar'));\n",
       "    titlebar.prepend(buttongrp);\n",
       "}\n",
       "\n",
       "mpl.figure.prototype._root_extra_style = function(el){\n",
       "    var fig = this\n",
       "    el.on(\"remove\", function(){\n",
       "\tfig.close_ws(fig, {});\n",
       "    });\n",
       "}\n",
       "\n",
       "mpl.figure.prototype._canvas_extra_style = function(el){\n",
       "    // this is important to make the div 'focusable\n",
       "    el.attr('tabindex', 0)\n",
       "    // reach out to IPython and tell the keyboard manager to turn it's self\n",
       "    // off when our div gets focus\n",
       "\n",
       "    // location in version 3\n",
       "    if (IPython.notebook.keyboard_manager) {\n",
       "        IPython.notebook.keyboard_manager.register_events(el);\n",
       "    }\n",
       "    else {\n",
       "        // location in version 2\n",
       "        IPython.keyboard_manager.register_events(el);\n",
       "    }\n",
       "\n",
       "}\n",
       "\n",
       "mpl.figure.prototype._key_event_extra = function(event, name) {\n",
       "    var manager = IPython.notebook.keyboard_manager;\n",
       "    if (!manager)\n",
       "        manager = IPython.keyboard_manager;\n",
       "\n",
       "    // Check for shift+enter\n",
       "    if (event.shiftKey && event.which == 13) {\n",
       "        this.canvas_div.blur();\n",
       "        // select the cell after this one\n",
       "        var index = IPython.notebook.find_cell_index(this.cell_info[0]);\n",
       "        IPython.notebook.select(index + 1);\n",
       "    }\n",
       "}\n",
       "\n",
       "mpl.figure.prototype.handle_save = function(fig, msg) {\n",
       "    fig.ondownload(fig, null);\n",
       "}\n",
       "\n",
       "\n",
       "mpl.find_output_cell = function(html_output) {\n",
       "    // Return the cell and output element which can be found *uniquely* in the notebook.\n",
       "    // Note - this is a bit hacky, but it is done because the \"notebook_saving.Notebook\"\n",
       "    // IPython event is triggered only after the cells have been serialised, which for\n",
       "    // our purposes (turning an active figure into a static one), is too late.\n",
       "    var cells = IPython.notebook.get_cells();\n",
       "    var ncells = cells.length;\n",
       "    for (var i=0; i<ncells; i++) {\n",
       "        var cell = cells[i];\n",
       "        if (cell.cell_type === 'code'){\n",
       "            for (var j=0; j<cell.output_area.outputs.length; j++) {\n",
       "                var data = cell.output_area.outputs[j];\n",
       "                if (data.data) {\n",
       "                    // IPython >= 3 moved mimebundle to data attribute of output\n",
       "                    data = data.data;\n",
       "                }\n",
       "                if (data['text/html'] == html_output) {\n",
       "                    return [cell, data, j];\n",
       "                }\n",
       "            }\n",
       "        }\n",
       "    }\n",
       "}\n",
       "\n",
       "// Register the function which deals with the matplotlib target/channel.\n",
       "// The kernel may be null if the page has been refreshed.\n",
       "if (IPython.notebook.kernel != null) {\n",
       "    IPython.notebook.kernel.comm_manager.register_target('matplotlib', mpl.mpl_figure_comm);\n",
       "}\n"
      ],
      "text/plain": [
       "<IPython.core.display.Javascript object>"
      ]
     },
     "metadata": {},
     "output_type": "display_data"
    },
    {
     "data": {
      "text/html": [
       "<img src=\"data:image/png;base64,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\" width=\"400\">"
      ],
      "text/plain": [
       "<IPython.core.display.HTML object>"
      ]
     },
     "metadata": {},
     "output_type": "display_data"
    },
    {
     "data": {
      "text/plain": [
       "<seaborn.axisgrid.FacetGrid at 0x116f090b8>"
      ]
     },
     "execution_count": 18,
     "metadata": {},
     "output_type": "execute_result"
    }
   ],
   "source": [
    "sns.factorplot('Sex', data=titanic_df, kind='count')"
   ]
  },
  {
   "cell_type": "code",
   "execution_count": 34,
   "metadata": {
    "collapsed": false
   },
   "outputs": [
    {
     "data": {
      "text/plain": [
       "<seaborn.axisgrid.FacetGrid at 0x115922518>"
      ]
     },
     "execution_count": 34,
     "metadata": {},
     "output_type": "execute_result"
    },
    {
     "data": {
      "image/png": "[encoded data removed]",
      "text/plain": [
       "<matplotlib.figure.Figure at 0x11593b278>"
      ]
     },
     "metadata": {},
     "output_type": "display_data"
    }
   ],
   "source": [
    "sns.factorplot('Sex', data=titanic_df, hue='Pclass', kind='count')"
   ]
  },
  {
   "cell_type": "code",
   "execution_count": 35,
   "metadata": {
    "collapsed": false
   },
   "outputs": [
    {
     "data": {
      "text/plain": [
       "<seaborn.axisgrid.FacetGrid at 0x11b3c5668>"
      ]
     },
     "execution_count": 35,
     "metadata": {},
     "output_type": "execute_result"
    },
    {
     "data": {
      "image/png": "[encoded data removed]",
      "text/plain": [
       "<matplotlib.figure.Figure at 0x116c6d748>"
      ]
     },
     "metadata": {},
     "output_type": "display_data"
    }
   ],
   "source": [
    "sns.factorplot('Pclass', data=titanic_df, hue='Sex', kind='count')"
   ]
  },
  {
   "cell_type": "code",
   "execution_count": 39,
   "metadata": {
    "collapsed": false
   },
   "outputs": [],
   "source": [
    "def male_female_child(passenger):\n",
    "    age,sex=passenger\n",
    "    \n",
    "    if age < 16:\n",
    "        return 'child'\n",
    "    else:\n",
    "        return sex"
   ]
  },
  {
   "cell_type": "markdown",
   "metadata": {},
   "source": [
    "Can apply function to a subset of the columns of data frame. Function unpacks list recieved upon func call."
   ]
  },
  {
   "cell_type": "code",
   "execution_count": 40,
   "metadata": {
    "collapsed": true
   },
   "outputs": [],
   "source": [
    "titanic_df['person'] = titanic_df[['Age', 'Sex']].apply(male_female_child, axis=1)"
   ]
  },
  {
   "cell_type": "code",
   "execution_count": 43,
   "metadata": {
    "collapsed": false
   },
   "outputs": [
    {
     "data": {
      "text/plain": [
       "<seaborn.axisgrid.FacetGrid at 0x11596b748>"
      ]
     },
     "execution_count": 43,
     "metadata": {},
     "output_type": "execute_result"
    },
    {
     "data": {
      "image/png": "[encoded data removed]",
      "text/plain": [
       "<matplotlib.figure.Figure at 0x117852828>"
      ]
     },
     "metadata": {},
     "output_type": "display_data"
    }
   ],
   "source": [
    "sns.factorplot('Pclass', data=titanic_df, hue='person', kind='count')"
   ]
  },
  {
   "cell_type": "code",
   "execution_count": 45,
   "metadata": {
    "collapsed": false
   },
   "outputs": [
    {
     "data": {
      "text/plain": [
       "<matplotlib.axes._subplots.AxesSubplot at 0x1179af6d8>"
      ]
     },
     "execution_count": 45,
     "metadata": {},
     "output_type": "execute_result"
    },
    {
     "data": {
      "image/png": "[encoded data removed]",
      "text/plain": [
       "<matplotlib.figure.Figure at 0x1179692e8>"
      ]
     },
     "metadata": {},
     "output_type": "display_data"
    }
   ],
   "source": [
    "titanic_df['Age'].hist(bins=70)"
   ]
  },
  {
   "cell_type": "code",
   "execution_count": 46,
   "metadata": {
    "collapsed": false
   },
   "outputs": [
    {
     "data": {
      "text/plain": [
       "29.69911764705882"
      ]
     },
     "execution_count": 46,
     "metadata": {},
     "output_type": "execute_result"
    }
   ],
   "source": [
    "titanic_df['Age'].mean()"
   ]
  },
  {
   "cell_type": "code",
   "execution_count": 47,
   "metadata": {
    "collapsed": false
   },
   "outputs": [
    {
     "data": {
      "text/plain": [
       "male      537\n",
       "female    271\n",
       "child      83\n",
       "Name: person, dtype: int64"
      ]
     },
     "execution_count": 47,
     "metadata": {},
     "output_type": "execute_result"
    }
   ],
   "source": [
    "titanic_df['person'].value_counts()"
   ]
  },
  {
   "cell_type": "code",
   "execution_count": 48,
   "metadata": {
    "collapsed": false
   },
   "outputs": [
    {
     "data": {
      "text/plain": [
       "<seaborn.axisgrid.FacetGrid at 0x11c5af5c0>"
      ]
     },
     "execution_count": 48,
     "metadata": {},
     "output_type": "execute_result"
    },
    {
     "data": {
      "image/png": "[encoded data removed]",
      "text/plain": [
       "<matplotlib.figure.Figure at 0x11c5f6828>"
      ]
     },
     "metadata": {},
     "output_type": "display_data"
    }
   ],
   "source": [
    "fig=sns.FacetGrid(titanic_df, hue='Sex', aspect=4)\n",
    "\n",
    "fig.map(sns.kdeplot, 'Age', shade=True)\n",
    "\n",
    "oldest=titanic_df['Age'].max()\n",
    "\n",
    "fig.set(xlim=(0, oldest))\n",
    "\n",
    "fig.add_legend()"
   ]
  },
  {
   "cell_type": "code",
   "execution_count": 49,
   "metadata": {
    "collapsed": false
   },
   "outputs": [
    {
     "data": {
      "text/plain": [
       "<seaborn.axisgrid.FacetGrid at 0x11c5b85c0>"
      ]
     },
     "execution_count": 49,
     "metadata": {},
     "output_type": "execute_result"
    },
    {
     "data": {
      "image/png": "[encoded data removed]",
      "text/plain": [
       "<matplotlib.figure.Figure at 0x11c613d30>"
      ]
     },
     "metadata": {},
     "output_type": "display_data"
    }
   ],
   "source": [
    "fig=sns.FacetGrid(titanic_df, hue='person', aspect=4)\n",
    "\n",
    "fig.map(sns.kdeplot, 'Age', shade=True)\n",
    "\n",
    "oldest=titanic_df['Age'].max()\n",
    "\n",
    "fig.set(xlim=(0, oldest))\n",
    "\n",
    "fig.add_legend()"
   ]
  },
  {
   "cell_type": "code",
   "execution_count": 50,
   "metadata": {
    "collapsed": false
   },
   "outputs": [
    {
     "data": {
      "text/plain": [
       "<seaborn.axisgrid.FacetGrid at 0x11c9bf6d8>"
      ]
     },
     "execution_count": 50,
     "metadata": {},
     "output_type": "execute_result"
    },
    {
     "data": {
      "image/png": "[encoded data removed]",
      "text/plain": [
       "<matplotlib.figure.Figure at 0x117969b38>"
      ]
     },
     "metadata": {},
     "output_type": "display_data"
    }
   ],
   "source": [
    "fig=sns.FacetGrid(titanic_df, hue='Pclass', aspect=4)\n",
    "\n",
    "fig.map(sns.kdeplot, 'Age', shade=True)\n",
    "\n",
    "oldest=titanic_df['Age'].max()\n",
    "\n",
    "fig.set(xlim=(0, oldest))\n",
    "\n",
    "fig.add_legend()"
   ]
  },
  {
   "cell_type": "code",
   "execution_count": 51,
   "metadata": {
    "collapsed": false
   },
   "outputs": [
    {
     "data": {
      "text/html": [
       "<div>\n",
       "<table border=\"1\" class=\"dataframe\">\n",
       "  <thead>\n",
       "    <tr style=\"text-align: right;\">\n",
       "      <th></th>\n",
       "      <th>PassengerId</th>\n",
       "      <th>Survived</th>\n",
       "      <th>Pclass</th>\n",
       "      <th>Name</th>\n",
       "      <th>Sex</th>\n",
       "      <th>Age</th>\n",
       "      <th>SibSp</th>\n",
       "      <th>Parch</th>\n",
       "      <th>Ticket</th>\n",
       "      <th>Fare</th>\n",
       "      <th>Cabin</th>\n",
       "      <th>Embarked</th>\n",
       "      <th>person</th>\n",
       "    </tr>\n",
       "  </thead>\n",
       "  <tbody>\n",
       "    <tr>\n",
       "      <th>0</th>\n",
       "      <td>1</td>\n",
       "      <td>0</td>\n",
       "      <td>3</td>\n",
       "      <td>Braund, Mr. Owen Harris</td>\n",
       "      <td>male</td>\n",
       "      <td>22.0</td>\n",
       "      <td>1</td>\n",
       "      <td>0</td>\n",
       "      <td>A/5 21171</td>\n",
       "      <td>7.2500</td>\n",
       "      <td>NaN</td>\n",
       "      <td>S</td>\n",
       "      <td>male</td>\n",
       "    </tr>\n",
       "    <tr>\n",
       "      <th>1</th>\n",
       "      <td>2</td>\n",
       "      <td>1</td>\n",
       "      <td>1</td>\n",
       "      <td>Cumings, Mrs. John Bradley (Florence Briggs Th...</td>\n",
       "      <td>female</td>\n",
       "      <td>38.0</td>\n",
       "      <td>1</td>\n",
       "      <td>0</td>\n",
       "      <td>PC 17599</td>\n",
       "      <td>71.2833</td>\n",
       "      <td>C85</td>\n",
       "      <td>C</td>\n",
       "      <td>female</td>\n",
       "    </tr>\n",
       "    <tr>\n",
       "      <th>2</th>\n",
       "      <td>3</td>\n",
       "      <td>1</td>\n",
       "      <td>3</td>\n",
       "      <td>Heikkinen, Miss. Laina</td>\n",
       "      <td>female</td>\n",
       "      <td>26.0</td>\n",
       "      <td>0</td>\n",
       "      <td>0</td>\n",
       "      <td>STON/O2. 3101282</td>\n",
       "      <td>7.9250</td>\n",
       "      <td>NaN</td>\n",
       "      <td>S</td>\n",
       "      <td>female</td>\n",
       "    </tr>\n",
       "    <tr>\n",
       "      <th>3</th>\n",
       "      <td>4</td>\n",
       "      <td>1</td>\n",
       "      <td>1</td>\n",
       "      <td>Futrelle, Mrs. Jacques Heath (Lily May Peel)</td>\n",
       "      <td>female</td>\n",
       "      <td>35.0</td>\n",
       "      <td>1</td>\n",
       "      <td>0</td>\n",
       "      <td>113803</td>\n",
       "      <td>53.1000</td>\n",
       "      <td>C123</td>\n",
       "      <td>S</td>\n",
       "      <td>female</td>\n",
       "    </tr>\n",
       "    <tr>\n",
       "      <th>4</th>\n",
       "      <td>5</td>\n",
       "      <td>0</td>\n",
       "      <td>3</td>\n",
       "      <td>Allen, Mr. William Henry</td>\n",
       "      <td>male</td>\n",
       "      <td>35.0</td>\n",
       "      <td>0</td>\n",
       "      <td>0</td>\n",
       "      <td>373450</td>\n",
       "      <td>8.0500</td>\n",
       "      <td>NaN</td>\n",
       "      <td>S</td>\n",
       "      <td>male</td>\n",
       "    </tr>\n",
       "  </tbody>\n",
       "</table>\n",
       "</div>"
      ],
      "text/plain": [
       "   PassengerId  Survived  Pclass  \\\n",
       "0            1         0       3   \n",
       "1            2         1       1   \n",
       "2            3         1       3   \n",
       "3            4         1       1   \n",
       "4            5         0       3   \n",
       "\n",
       "                                                Name     Sex   Age  SibSp  \\\n",
       "0                            Braund, Mr. Owen Harris    male  22.0      1   \n",
       "1  Cumings, Mrs. John Bradley (Florence Briggs Th...  female  38.0      1   \n",
       "2                             Heikkinen, Miss. Laina  female  26.0      0   \n",
       "3       Futrelle, Mrs. Jacques Heath (Lily May Peel)  female  35.0      1   \n",
       "4                           Allen, Mr. William Henry    male  35.0      0   \n",
       "\n",
       "   Parch            Ticket     Fare Cabin Embarked  person  \n",
       "0      0         A/5 21171   7.2500   NaN        S    male  \n",
       "1      0          PC 17599  71.2833   C85        C  female  \n",
       "2      0  STON/O2. 3101282   7.9250   NaN        S  female  \n",
       "3      0            113803  53.1000  C123        S  female  \n",
       "4      0            373450   8.0500   NaN        S    male  "
      ]
     },
     "execution_count": 51,
     "metadata": {},
     "output_type": "execute_result"
    }
   ],
   "source": [
    "titanic_df.head()"
   ]
  },
  {
   "cell_type": "markdown",
   "metadata": {},
   "source": [
    "To analyize column with nulls, create new object that drops the nulls"
   ]
  },
  {
   "cell_type": "code",
   "execution_count": 52,
   "metadata": {
    "collapsed": true
   },
   "outputs": [],
   "source": [
    "deck=titanic_df['Cabin'].dropna()"
   ]
  },
  {
   "cell_type": "code",
   "execution_count": 53,
   "metadata": {
    "collapsed": false
   },
   "outputs": [
    {
     "data": {
      "text/plain": [
       "1      C85\n",
       "3     C123\n",
       "6      E46\n",
       "10      G6\n",
       "11    C103\n",
       "Name: Cabin, dtype: object"
      ]
     },
     "execution_count": 53,
     "metadata": {},
     "output_type": "execute_result"
    }
   ],
   "source": [
    "deck.head()"
   ]
  },
  {
   "cell_type": "code",
   "execution_count": 55,
   "metadata": {
    "collapsed": false
   },
   "outputs": [
    {
     "data": {
      "text/plain": [
       "<seaborn.axisgrid.FacetGrid at 0x11c5a9400>"
      ]
     },
     "execution_count": 55,
     "metadata": {},
     "output_type": "execute_result"
    },
    {
     "data": {
      "image/png": "[encoded data removed]",
      "text/plain": [
       "<matplotlib.figure.Figure at 0x11cbc83c8>"
      ]
     },
     "metadata": {},
     "output_type": "display_data"
    }
   ],
   "source": [
    "#loop over deck and get first letter\n",
    "levels=[]\n",
    "for level in deck:\n",
    "    levels.append(level[0])\n",
    "    \n",
    "cabin_df=DataFrame(levels)\n",
    "cabin_df.columns=['Cabin']\n",
    "\n",
    "sns.factorplot('Cabin', data=cabin_df, palette='winter_d', kind='count') #palette_d makes it darker"
   ]
  },
  {
   "cell_type": "code",
   "execution_count": 62,
   "metadata": {
    "collapsed": false
   },
   "outputs": [
    {
     "data": {
      "text/plain": [
       "<seaborn.axisgrid.FacetGrid at 0x115e8a8d0>"
      ]
     },
     "execution_count": 62,
     "metadata": {},
     "output_type": "execute_result"
    },
    {
     "data": {
      "image/png": "[encoded data removed]",
      "text/plain": [
       "<matplotlib.figure.Figure at 0x112a07ba8>"
      ]
     },
     "metadata": {},
     "output_type": "display_data"
    }
   ],
   "source": [
    "cabin_df=cabin_df[cabin_df['Cabin']!='T']\n",
    "\n",
    "sns.factorplot('Cabin', data=cabin_df, palette='summer', kind='count')"
   ]
  },
  {
   "cell_type": "code",
   "execution_count": 63,
   "metadata": {
    "collapsed": false
   },
   "outputs": [
    {
     "data": {
      "text/html": [
       "<div>\n",
       "<table border=\"1\" class=\"dataframe\">\n",
       "  <thead>\n",
       "    <tr style=\"text-align: right;\">\n",
       "      <th></th>\n",
       "      <th>PassengerId</th>\n",
       "      <th>Survived</th>\n",
       "      <th>Pclass</th>\n",
       "      <th>Name</th>\n",
       "      <th>Sex</th>\n",
       "      <th>Age</th>\n",
       "      <th>SibSp</th>\n",
       "      <th>Parch</th>\n",
       "      <th>Ticket</th>\n",
       "      <th>Fare</th>\n",
       "      <th>Cabin</th>\n",
       "      <th>Embarked</th>\n",
       "      <th>person</th>\n",
       "    </tr>\n",
       "  </thead>\n",
       "  <tbody>\n",
       "    <tr>\n",
       "      <th>0</th>\n",
       "      <td>1</td>\n",
       "      <td>0</td>\n",
       "      <td>3</td>\n",
       "      <td>Braund, Mr. Owen Harris</td>\n",
       "      <td>male</td>\n",
       "      <td>22.0</td>\n",
       "      <td>1</td>\n",
       "      <td>0</td>\n",
       "      <td>A/5 21171</td>\n",
       "      <td>7.2500</td>\n",
       "      <td>NaN</td>\n",
       "      <td>S</td>\n",
       "      <td>male</td>\n",
       "    </tr>\n",
       "    <tr>\n",
       "      <th>1</th>\n",
       "      <td>2</td>\n",
       "      <td>1</td>\n",
       "      <td>1</td>\n",
       "      <td>Cumings, Mrs. John Bradley (Florence Briggs Th...</td>\n",
       "      <td>female</td>\n",
       "      <td>38.0</td>\n",
       "      <td>1</td>\n",
       "      <td>0</td>\n",
       "      <td>PC 17599</td>\n",
       "      <td>71.2833</td>\n",
       "      <td>C85</td>\n",
       "      <td>C</td>\n",
       "      <td>female</td>\n",
       "    </tr>\n",
       "    <tr>\n",
       "      <th>2</th>\n",
       "      <td>3</td>\n",
       "      <td>1</td>\n",
       "      <td>3</td>\n",
       "      <td>Heikkinen, Miss. Laina</td>\n",
       "      <td>female</td>\n",
       "      <td>26.0</td>\n",
       "      <td>0</td>\n",
       "      <td>0</td>\n",
       "      <td>STON/O2. 3101282</td>\n",
       "      <td>7.9250</td>\n",
       "      <td>NaN</td>\n",
       "      <td>S</td>\n",
       "      <td>female</td>\n",
       "    </tr>\n",
       "    <tr>\n",
       "      <th>3</th>\n",
       "      <td>4</td>\n",
       "      <td>1</td>\n",
       "      <td>1</td>\n",
       "      <td>Futrelle, Mrs. Jacques Heath (Lily May Peel)</td>\n",
       "      <td>female</td>\n",
       "      <td>35.0</td>\n",
       "      <td>1</td>\n",
       "      <td>0</td>\n",
       "      <td>113803</td>\n",
       "      <td>53.1000</td>\n",
       "      <td>C123</td>\n",
       "      <td>S</td>\n",
       "      <td>female</td>\n",
       "    </tr>\n",
       "    <tr>\n",
       "      <th>4</th>\n",
       "      <td>5</td>\n",
       "      <td>0</td>\n",
       "      <td>3</td>\n",
       "      <td>Allen, Mr. William Henry</td>\n",
       "      <td>male</td>\n",
       "      <td>35.0</td>\n",
       "      <td>0</td>\n",
       "      <td>0</td>\n",
       "      <td>373450</td>\n",
       "      <td>8.0500</td>\n",
       "      <td>NaN</td>\n",
       "      <td>S</td>\n",
       "      <td>male</td>\n",
       "    </tr>\n",
       "  </tbody>\n",
       "</table>\n",
       "</div>"
      ],
      "text/plain": [
       "   PassengerId  Survived  Pclass  \\\n",
       "0            1         0       3   \n",
       "1            2         1       1   \n",
       "2            3         1       3   \n",
       "3            4         1       1   \n",
       "4            5         0       3   \n",
       "\n",
       "                                                Name     Sex   Age  SibSp  \\\n",
       "0                            Braund, Mr. Owen Harris    male  22.0      1   \n",
       "1  Cumings, Mrs. John Bradley (Florence Briggs Th...  female  38.0      1   \n",
       "2                             Heikkinen, Miss. Laina  female  26.0      0   \n",
       "3       Futrelle, Mrs. Jacques Heath (Lily May Peel)  female  35.0      1   \n",
       "4                           Allen, Mr. William Henry    male  35.0      0   \n",
       "\n",
       "   Parch            Ticket     Fare Cabin Embarked  person  \n",
       "0      0         A/5 21171   7.2500   NaN        S    male  \n",
       "1      0          PC 17599  71.2833   C85        C  female  \n",
       "2      0  STON/O2. 3101282   7.9250   NaN        S  female  \n",
       "3      0            113803  53.1000  C123        S  female  \n",
       "4      0            373450   8.0500   NaN        S    male  "
      ]
     },
     "execution_count": 63,
     "metadata": {},
     "output_type": "execute_result"
    }
   ],
   "source": [
    "titanic_df.head()"
   ]
  },
  {
   "cell_type": "code",
   "execution_count": 68,
   "metadata": {
    "collapsed": false
   },
   "outputs": [
    {
     "data": {
      "text/plain": [
       "<seaborn.axisgrid.FacetGrid at 0x11d314a90>"
      ]
     },
     "execution_count": 68,
     "metadata": {},
     "output_type": "execute_result"
    },
    {
     "data": {
      "image/png": "[encoded data removed]",
      "text/plain": [
       "<matplotlib.figure.Figure at 0x11d42df28>"
      ]
     },
     "metadata": {},
     "output_type": "display_data"
    }
   ],
   "source": [
    "sns.factorplot('Embarked', data=titanic_df, hue='Pclass', order=['C', 'Q', 'S'], kind='count')"
   ]
  },
  {
   "cell_type": "markdown",
   "metadata": {},
   "source": [
    "# Who was alone and who was with family?"
   ]
  },
  {
   "cell_type": "code",
   "execution_count": 69,
   "metadata": {
    "collapsed": false
   },
   "outputs": [
    {
     "data": {
      "text/html": [
       "<div>\n",
       "<table border=\"1\" class=\"dataframe\">\n",
       "  <thead>\n",
       "    <tr style=\"text-align: right;\">\n",
       "      <th></th>\n",
       "      <th>PassengerId</th>\n",
       "      <th>Survived</th>\n",
       "      <th>Pclass</th>\n",
       "      <th>Name</th>\n",
       "      <th>Sex</th>\n",
       "      <th>Age</th>\n",
       "      <th>SibSp</th>\n",
       "      <th>Parch</th>\n",
       "      <th>Ticket</th>\n",
       "      <th>Fare</th>\n",
       "      <th>Cabin</th>\n",
       "      <th>Embarked</th>\n",
       "      <th>person</th>\n",
       "    </tr>\n",
       "  </thead>\n",
       "  <tbody>\n",
       "    <tr>\n",
       "      <th>0</th>\n",
       "      <td>1</td>\n",
       "      <td>0</td>\n",
       "      <td>3</td>\n",
       "      <td>Braund, Mr. Owen Harris</td>\n",
       "      <td>male</td>\n",
       "      <td>22.0</td>\n",
       "      <td>1</td>\n",
       "      <td>0</td>\n",
       "      <td>A/5 21171</td>\n",
       "      <td>7.2500</td>\n",
       "      <td>NaN</td>\n",
       "      <td>S</td>\n",
       "      <td>male</td>\n",
       "    </tr>\n",
       "    <tr>\n",
       "      <th>1</th>\n",
       "      <td>2</td>\n",
       "      <td>1</td>\n",
       "      <td>1</td>\n",
       "      <td>Cumings, Mrs. John Bradley (Florence Briggs Th...</td>\n",
       "      <td>female</td>\n",
       "      <td>38.0</td>\n",
       "      <td>1</td>\n",
       "      <td>0</td>\n",
       "      <td>PC 17599</td>\n",
       "      <td>71.2833</td>\n",
       "      <td>C85</td>\n",
       "      <td>C</td>\n",
       "      <td>female</td>\n",
       "    </tr>\n",
       "    <tr>\n",
       "      <th>2</th>\n",
       "      <td>3</td>\n",
       "      <td>1</td>\n",
       "      <td>3</td>\n",
       "      <td>Heikkinen, Miss. Laina</td>\n",
       "      <td>female</td>\n",
       "      <td>26.0</td>\n",
       "      <td>0</td>\n",
       "      <td>0</td>\n",
       "      <td>STON/O2. 3101282</td>\n",
       "      <td>7.9250</td>\n",
       "      <td>NaN</td>\n",
       "      <td>S</td>\n",
       "      <td>female</td>\n",
       "    </tr>\n",
       "    <tr>\n",
       "      <th>3</th>\n",
       "      <td>4</td>\n",
       "      <td>1</td>\n",
       "      <td>1</td>\n",
       "      <td>Futrelle, Mrs. Jacques Heath (Lily May Peel)</td>\n",
       "      <td>female</td>\n",
       "      <td>35.0</td>\n",
       "      <td>1</td>\n",
       "      <td>0</td>\n",
       "      <td>113803</td>\n",
       "      <td>53.1000</td>\n",
       "      <td>C123</td>\n",
       "      <td>S</td>\n",
       "      <td>female</td>\n",
       "    </tr>\n",
       "    <tr>\n",
       "      <th>4</th>\n",
       "      <td>5</td>\n",
       "      <td>0</td>\n",
       "      <td>3</td>\n",
       "      <td>Allen, Mr. William Henry</td>\n",
       "      <td>male</td>\n",
       "      <td>35.0</td>\n",
       "      <td>0</td>\n",
       "      <td>0</td>\n",
       "      <td>373450</td>\n",
       "      <td>8.0500</td>\n",
       "      <td>NaN</td>\n",
       "      <td>S</td>\n",
       "      <td>male</td>\n",
       "    </tr>\n",
       "  </tbody>\n",
       "</table>\n",
       "</div>"
      ],
      "text/plain": [
       "   PassengerId  Survived  Pclass  \\\n",
       "0            1         0       3   \n",
       "1            2         1       1   \n",
       "2            3         1       3   \n",
       "3            4         1       1   \n",
       "4            5         0       3   \n",
       "\n",
       "                                                Name     Sex   Age  SibSp  \\\n",
       "0                            Braund, Mr. Owen Harris    male  22.0      1   \n",
       "1  Cumings, Mrs. John Bradley (Florence Briggs Th...  female  38.0      1   \n",
       "2                             Heikkinen, Miss. Laina  female  26.0      0   \n",
       "3       Futrelle, Mrs. Jacques Heath (Lily May Peel)  female  35.0      1   \n",
       "4                           Allen, Mr. William Henry    male  35.0      0   \n",
       "\n",
       "   Parch            Ticket     Fare Cabin Embarked  person  \n",
       "0      0         A/5 21171   7.2500   NaN        S    male  \n",
       "1      0          PC 17599  71.2833   C85        C  female  \n",
       "2      0  STON/O2. 3101282   7.9250   NaN        S  female  \n",
       "3      0            113803  53.1000  C123        S  female  \n",
       "4      0            373450   8.0500   NaN        S    male  "
      ]
     },
     "execution_count": 69,
     "metadata": {},
     "output_type": "execute_result"
    }
   ],
   "source": [
    "titanic_df.head()"
   ]
  },
  {
   "cell_type": "code",
   "execution_count": 70,
   "metadata": {
    "collapsed": true
   },
   "outputs": [],
   "source": [
    "titanic_df['Alone']=titanic_df['SibSp']+titanic_df['Parch']"
   ]
  },
  {
   "cell_type": "code",
   "execution_count": 71,
   "metadata": {
    "collapsed": false
   },
   "outputs": [
    {
     "name": "stderr",
     "output_type": "stream",
     "text": [
      "/Users/pat/anaconda/lib/python3.6/site-packages/pandas/core/indexing.py:141: SettingWithCopyWarning: \n",
      "A value is trying to be set on a copy of a slice from a DataFrame\n",
      "\n",
      "See the caveats in the documentation: http://pandas.pydata.org/pandas-docs/stable/indexing.html#indexing-view-versus-copy\n",
      "  self._setitem_with_indexer(indexer, value)\n"
     ]
    }
   ],
   "source": [
    "#set as 'With Family' and 'Alone'\n",
    "titanic_df['Alone'].loc[titanic_df['Alone']>0] = 'With Family'\n",
    "\n",
    "titanic_df['Alone'].loc[titanic_df['Alone']==0] = 'Alone'"
   ]
  },
  {
   "cell_type": "markdown",
   "metadata": {},
   "source": [
    "# #can use pd.options.mode.chained_assignment = None  # default='warn' to disable this warning.\n",
    "\n",
    "# see http://stackoverflow.com/questions/20625582/how-to-deal-with-settingwithcopywarning-in-pandas for more details."
   ]
  },
  {
   "cell_type": "code",
   "execution_count": 72,
   "metadata": {
    "collapsed": false
   },
   "outputs": [
    {
     "data": {
      "text/plain": [
       "Alone          537\n",
       "With Family    354\n",
       "Name: Alone, dtype: int64"
      ]
     },
     "execution_count": 72,
     "metadata": {},
     "output_type": "execute_result"
    }
   ],
   "source": [
    "titanic_df['Alone'].value_counts()"
   ]
  },
  {
   "cell_type": "code",
   "execution_count": 73,
   "metadata": {
    "collapsed": false
   },
   "outputs": [
    {
     "data": {
      "text/plain": [
       "<seaborn.axisgrid.FacetGrid at 0x10ade1940>"
      ]
     },
     "execution_count": 73,
     "metadata": {},
     "output_type": "execute_result"
    },
    {
     "data": {
      "image/png": "[encoded data removed]",
      "text/plain": [
       "<matplotlib.figure.Figure at 0x11c5b8c18>"
      ]
     },
     "metadata": {},
     "output_type": "display_data"
    }
   ],
   "source": [
    "sns.factorplot('Alone', data=titanic_df, palette='Blues', kind='count')"
   ]
  },
  {
   "cell_type": "markdown",
   "metadata": {},
   "source": [
    "# What factors helped somebody survive?"
   ]
  },
  {
   "cell_type": "code",
   "execution_count": 79,
   "metadata": {
    "collapsed": false
   },
   "outputs": [
    {
     "data": {
      "text/plain": [
       "<seaborn.axisgrid.FacetGrid at 0x11d419710>"
      ]
     },
     "execution_count": 79,
     "metadata": {},
     "output_type": "execute_result"
    },
    {
     "data": {
      "image/png": "[encoded data removed]",
      "text/plain": [
       "<matplotlib.figure.Figure at 0x11d608a58>"
      ]
     },
     "metadata": {},
     "output_type": "display_data"
    }
   ],
   "source": [
    "titanic_df['Survior']=titanic_df['Survived'].map({0:'no', 1:'yes'})\n",
    "sns.factorplot('Survior', data=titanic_df, palette='Set1', kind='count')"
   ]
  },
  {
   "cell_type": "code",
   "execution_count": 80,
   "metadata": {
    "collapsed": false
   },
   "outputs": [
    {
     "data": {
      "text/plain": [
       "<seaborn.axisgrid.FacetGrid at 0x11d80e160>"
      ]
     },
     "execution_count": 80,
     "metadata": {},
     "output_type": "execute_result"
    },
    {
     "data": {
      "image/png": "[encoded data removed]",
      "text/plain": [
       "<matplotlib.figure.Figure at 0x11d8c85f8>"
      ]
     },
     "metadata": {},
     "output_type": "display_data"
    }
   ],
   "source": [
    "sns.factorplot('Pclass', 'Survived', data=titanic_df)"
   ]
  },
  {
   "cell_type": "markdown",
   "metadata": {},
   "source": [
    "# Class 3 survived less, however we know class 3 had more men.  Is surviving a function of women and children first?"
   ]
  },
  {
   "cell_type": "code",
   "execution_count": 82,
   "metadata": {
    "collapsed": false
   },
   "outputs": [
    {
     "data": {
      "text/plain": [
       "<seaborn.axisgrid.FacetGrid at 0x11d8c8748>"
      ]
     },
     "execution_count": 82,
     "metadata": {},
     "output_type": "execute_result"
    },
    {
     "data": {
      "image/png": "[encoded data removed]",
      "text/plain": [
       "<matplotlib.figure.Figure at 0x11d3382e8>"
      ]
     },
     "metadata": {},
     "output_type": "display_data"
    }
   ],
   "source": [
    "sns.factorplot('Pclass', 'Survived', hue='person', data=titanic_df)"
   ]
  },
  {
   "cell_type": "code",
   "execution_count": 83,
   "metadata": {
    "collapsed": false
   },
   "outputs": [
    {
     "data": {
      "text/plain": [
       "<seaborn.axisgrid.FacetGrid at 0x11d5f7e48>"
      ]
     },
     "execution_count": 83,
     "metadata": {},
     "output_type": "execute_result"
    },
    {
     "data": {
      "image/png": "[encoded data removed]",
      "text/plain": [
       "<matplotlib.figure.Figure at 0x11d89eba8>"
      ]
     },
     "metadata": {},
     "output_type": "display_data"
    }
   ],
   "source": [
    "sns.lmplot('Age', 'Survived', data=titanic_df)"
   ]
  },
  {
   "cell_type": "code",
   "execution_count": 84,
   "metadata": {
    "collapsed": false
   },
   "outputs": [
    {
     "data": {
      "text/plain": [
       "<seaborn.axisgrid.FacetGrid at 0x11dd55320>"
      ]
     },
     "execution_count": 84,
     "metadata": {},
     "output_type": "execute_result"
    },
    {
     "data": {
      "image/png": "[encoded data removed]",
      "text/plain": [
       "<matplotlib.figure.Figure at 0x11dd4c828>"
      ]
     },
     "metadata": {},
     "output_type": "display_data"
    }
   ],
   "source": [
    "sns.lmplot('Age', 'Survived', hue='Pclass', data=titanic_df, palette='winter')"
   ]
  },
  {
   "cell_type": "code",
   "execution_count": 85,
   "metadata": {
    "collapsed": false
   },
   "outputs": [
    {
     "data": {
      "text/plain": [
       "<seaborn.axisgrid.FacetGrid at 0x11dd8eba8>"
      ]
     },
     "execution_count": 85,
     "metadata": {},
     "output_type": "execute_result"
    },
    {
     "data": {
      "image/png": "[encoded data removed]",
      "text/plain": [
       "<matplotlib.figure.Figure at 0x11dd849e8>"
      ]
     },
     "metadata": {},
     "output_type": "display_data"
    }
   ],
   "source": [
    "generations=[10,20,40,60,80]\n",
    "\n",
    "sns.lmplot('Age', 'Survived', hue='Pclass', data=titanic_df, palette='winter', x_bins=generations)"
   ]
  },
  {
   "cell_type": "code",
   "execution_count": 86,
   "metadata": {
    "collapsed": false
   },
   "outputs": [
    {
     "data": {
      "text/plain": [
       "<seaborn.axisgrid.FacetGrid at 0x11e9e4fd0>"
      ]
     },
     "execution_count": 86,
     "metadata": {},
     "output_type": "execute_result"
    },
    {
     "data": {
      "image/png": "[encoded data removed]",
      "text/plain": [
       "<matplotlib.figure.Figure at 0x11e80fcf8>"
      ]
     },
     "metadata": {},
     "output_type": "display_data"
    }
   ],
   "source": [
    "sns.lmplot('Age', 'Survived', hue='Sex', data=titanic_df, palette='winter', x_bins=generations)"
   ]
  },
  {
   "cell_type": "markdown",
   "metadata": {},
   "source": [
    "# Did deck have an impact on passenger survival rate?\n",
    "# Did having a family member increase odds of survival?"
   ]
  },
  {
   "cell_type": "code",
   "execution_count": 87,
   "metadata": {
    "collapsed": false
   },
   "outputs": [
    {
     "data": {
      "text/plain": [
       "<seaborn.axisgrid.FacetGrid at 0x11ed8d588>"
      ]
     },
     "execution_count": 87,
     "metadata": {},
     "output_type": "execute_result"
    },
    {
     "data": {
      "image/png": "[encoded data removed]",
      "text/plain": [
       "<matplotlib.figure.Figure at 0x11ed8d5f8>"
      ]
     },
     "metadata": {},
     "output_type": "display_data"
    }
   ],
   "source": [
    "sns.lmplot('Age', 'Survived', hue='Alone', data=titanic_df, palette='winter', x_bins=generations)"
   ]
  },
  {
   "cell_type": "code",
   "execution_count": null,
   "metadata": {
    "collapsed": true
   },
   "outputs": [],
   "source": []
  }
 ],
 "metadata": {
  "kernelspec": {
   "display_name": "Python 3",
   "language": "python",
   "name": "python3"
  },
  "language_info": {
   "codemirror_mode": {
    "name": "ipython",
    "version": 3
   },
   "file_extension": ".py",
   "mimetype": "text/x-python",
   "name": "python",
   "nbconvert_exporter": "python",
   "pygments_lexer": "ipython3",
   "version": "3.6.0"
  }
 },
 "nbformat": 4,
 "nbformat_minor": 2
}
